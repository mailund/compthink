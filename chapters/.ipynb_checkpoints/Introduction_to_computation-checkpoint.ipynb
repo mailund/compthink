{
 "cells": [
  {
   "cell_type": "markdown",
   "metadata": {},
   "source": [
    "# Introduction\n",
    "\n",
    "Using computers as more than glorified typewriters or calculators is an increasingly important aspect of any scientific or technological field, and knowing how to program a computer to solve new problems is becoming as essential a skill as mathematics. Learning how to program can be a frustrating experience at time, since computers require a level of preciseness and rigor in how we must express that we never encounter elsewhere in life. Further, computers will do *exactly* what you ask them to do, regardless of your actual intend, even if this can have catastrophic consequences. On the other hand, learning how to program can also be very rewarding. Programs are created out of pure thought, and it is a special feeling to seeing a computer translate your thoughts into actions and see it solve your problems for you.\n",
    "\n",
    "Any program can be broken down into a series of computational steps. Computational thinking involves breaking problems into such computational steps that can then be fed into the computer as a program. Designing an algorithm and implementing it in a computer program are two separate tasks, although tightly linked. The first task involves understanding the problem you want to solve in sufficient detail that you can specify what must be done in mathematical detail. This can be a difficult task to begin with and involves some mathematical modeling of the aspects of the world you warn your program to deal with, but it will not be the topic of this book. After understanding the problem to be solved, the next step is then to reduce the solution down to individual computational steps that operate at a level that can be explained to a computer. What that level is depend on the programming language you will use to implement your algorithm, and this is where the algorithm design task meets the programming task.\n",
    "\n",
    "The abstraction level at which you can implement an algorithm depends intimately on the programming language and the libraries of functionality you have access to. At the most basic level, the hardware of your computer, the instructions available do little more than move bits around and do basic arithmetic. A modern CPU is a very sophisticated machine for doing this, with many optimizations implemented in hardware, but the basic operations you have at this level are still this primitive. This level of abstraction is where you can get the highest performance out of your CPU, but we rarely if ever program at this level, because it is also the level of abstraction where you get the lowest performance out of a programmer. Basic arithmetic is simply too primitive a level of abstraction for us to efficiently think about algorithms.\n",
    "\n",
    "Programming languages provide higher levels of abstraction to the programmer. They can do this by knowing how to translate a high level operation, for example an operation that runs through all elements of a sequence, into instructions at a lower level, where there is no concept of elements, sequence, or loop. Alternatively, they have programs for executing higher level operations, implemented at the lower level, and they run these programs to interpret programs at the higher level. We sometimes talk about high-level and low-level programming languages, but there isn't a true dichotomy. There are simply differences in the higher level abstractions provided by all programming languages. Some programming languages provide an environment for programming very close to the hardware, where you can manipulate bits at the lowest level while still having some abstractions to control the steps taken by your program and some abstractions for representing data beyond mere bit patterns. These we would call low-level languages because they aim to be close to the lowest level of abstraction on the computer. Other languages, high-level languages, provide a programming environment that tries to hide the lower levels from the programmer. How data is actually represented at lower levels is hidden from the programmer by abstractions in the language and the programming environment simply guarantees that the mapping between abstractions and bits is handled correctly and that resources allocated by the environment to execute a program are also appropriately freed again when possible---something that must usually be explicitly programmed in low-level languages and can take up a sizable fraction of the development time for a program.\n",
    "\n",
    "The purpose of this book is to introduce computational thinking and basic problem solving approaches for designing algorithms and to introduce algorithmic programming, the skills needed to implement solutions so they can be run on a computer. For this, we will use a small subset of the Python programming language. This is a high-level language with many advanced features, many supporting effective software engineering practices, but the purpose of this book is not to teach the Python programming language---there are many excellent books that do this---we will simply use Python as a concrete language to implement our algorithms in so we can experiment with them. We will mainly use a subset of Python that has analogues in all lower-level languages you are likely to encounter, such that what you learn will also be applicable there. Essentially all programming languages are based on a few control structures: loops, conditional execution, variables and expressions. Some might avoid modifying data and variables and use function recursion instead of loops, but that is just syntactic sugar on top of the basis operations we will see in this book, as are more advanced control structures supported in some languages. What you learn here should mostly be applicable in any other language you pick up, after a little adjusting to the new language.\n",
    "\n",
    "To understand how to implement algorithms at different levels of abstractions, however, we *will* use some Python specific language constructions. We will usually first solve a new problem with the basic programming constructions you can find in any other language, but to illustrate how different language constructions can change both the readability and performance of an algorithm, we will often supplement the low-level solutions with more \"Pythonic\" solutions---the kind of solutions you would actually write if you were familiar with Python.\n",
    "\n",
    "To get the full benefit out of this book, you must practice. And practice a lot. Programming can look deceptively easy---at least for the complexity level we consider in this book---but it is substantially harder to write your own code than it is to read and understand code already written. Without exercising the skills involved in computational thinking and algorithmic programming, you will at best get a superficial understanding. Watching the Olympics doesn't prepare you for athletics. Each chapter has an exercise set associated with it, and you should expect to use at least as much time doing exercises as you spend reading the chapters if you want the full benefit out of the book.\n",
    "\n",
    "\n",
    "**FIXME: where to get exercises to use after each chapter.**"
   ]
  }
 ],
 "metadata": {
  "kernelspec": {
   "display_name": "Python 3",
   "language": "python",
   "name": "python3"
  },
  "language_info": {
   "codemirror_mode": {
    "name": "ipython",
    "version": 3
   },
   "file_extension": ".py",
   "mimetype": "text/x-python",
   "name": "python",
   "nbconvert_exporter": "python",
   "pygments_lexer": "ipython3",
   "version": "3.5.2"
  }
 },
 "nbformat": 4,
 "nbformat_minor": 2
}
